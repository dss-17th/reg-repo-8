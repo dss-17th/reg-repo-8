{
 "cells": [
  {
   "cell_type": "code",
   "execution_count": 1,
   "id": "7e91ede4",
   "metadata": {},
   "outputs": [],
   "source": [
    "import pickle"
   ]
  },
  {
   "cell_type": "code",
   "execution_count": 2,
   "id": "309695c6",
   "metadata": {},
   "outputs": [],
   "source": [
    "with open('data/premier_total_final.pkl', 'rb') as f:\n",
    "    datas = pickle.load(f)"
   ]
  },
  {
   "cell_type": "code",
   "execution_count": 11,
   "id": "a39b4407",
   "metadata": {},
   "outputs": [
    {
     "data": {
      "text/plain": [
       "array([' AM(C),FW', ' AM(CL)', ' M(CLR),FW', ' D(CL)', ' AM(CLR),FW',\n",
       "       ' M(CLR)', ' D(LR),M(R)', ' AM(CLR)', ' DMC', ' M(C)',\n",
       "       ' AM(LR),FW', ' AM(L),FW', ' AM(LR)', ' D(R),M(R)', ' D(CR)',\n",
       "       ' D(R),M(CLR),FW', ' D(CL),M(L)', ' D(C)', ' M(CL)', ' D(C),DMC',\n",
       "       ' M(CR)', ' D(CLR),M(LR)', ' GK', ' D(L),M(L)', ' D(R),M(LR)',\n",
       "       ' D(L),M(CR)', ' D(CLR),M(R)', ' D(R),M(CLR)', ' M(LR),FW',\n",
       "       ' D(CR),M(R)', ' D(R),DMC,M(R)', ' D(R)', ' D(L),M(CLR)', ' M(LR)',\n",
       "       ' FW', ' D(LR),M(CLR)', ' D(C),M(CLR)', ' D(CR),DMC', ' M(CR),FW',\n",
       "       ' AM(R),FW', ' D(R),M(CR)', ' AM(CL),FW', ' D(L),M(C)',\n",
       "       ' D(CR),M(CR)', ' AM(C)', ' D(L)', ' D(CL),DMC', ' AM(L)',\n",
       "       ' D(L),DMC,M(L)', ' D(LR),M(L)', ' D(LR),DMC,M(R)', ' AM(CR)',\n",
       "       ' D(CLR)', ' DMC,M(L)', ' D(CLR),M(L)', ' D(LR)', ' Defender',\n",
       "       ' Midfielder', ' D(CL),DMC,M(L)', ' D(L),M(CL)', ' M(CL),FW',\n",
       "       ' Forward', ' AM(CR),FW', ' AM(R)', ' M(R)', ' D(CLR),DMC,M(R)',\n",
       "       ' D(R),DMC'], dtype=object)"
      ]
     },
     "execution_count": 11,
     "metadata": {},
     "output_type": "execute_result"
    }
   ],
   "source": [
    "datas['Position'].unique()"
   ]
  },
  {
   "cell_type": "code",
   "execution_count": 6,
   "id": "c57fb0d2",
   "metadata": {},
   "outputs": [
    {
     "name": "stdout",
     "output_type": "stream",
     "text": [
      "EPL_crawling.py    Untitled.ipynb     \u001b[34maeea_part\u001b[m\u001b[m          \u001b[34mdata\u001b[m\u001b[m\r\n",
      "README.md          Untitled1.ipynb    \u001b[31mchromedriver\u001b[m\u001b[m       serieA_crawling.py\r\n"
     ]
    }
   ],
   "source": [
    "!ls"
   ]
  },
  {
   "cell_type": "code",
   "execution_count": null,
   "id": "b8521081",
   "metadata": {},
   "outputs": [],
   "source": [
    "with open('data/', 'rb') as f:\n",
    "    datas = pickle.load(f)"
   ]
  }
 ],
 "metadata": {
  "kernelspec": {
   "display_name": "Python 3",
   "language": "python",
   "name": "python3"
  },
  "language_info": {
   "codemirror_mode": {
    "name": "ipython",
    "version": 3
   },
   "file_extension": ".py",
   "mimetype": "text/x-python",
   "name": "python",
   "nbconvert_exporter": "python",
   "pygments_lexer": "ipython3",
   "version": "3.8.6"
  }
 },
 "nbformat": 4,
 "nbformat_minor": 5
}
