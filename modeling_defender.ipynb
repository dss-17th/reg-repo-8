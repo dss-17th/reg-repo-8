{
 "cells": [
  {
   "cell_type": "code",
   "execution_count": 1,
   "id": "2a307cc5",
   "metadata": {},
   "outputs": [
    {
     "name": "stderr",
     "output_type": "stream",
     "text": [
      "/Users/riversong/miniforge3/envs/ml/lib/python3.8/site-packages/statsmodels/tools/_testing.py:19: FutureWarning: pandas.util.testing is deprecated. Use the functions in the public API at pandas.testing instead.\n",
      "  import pandas.util.testing as tm\n"
     ]
    },
    {
     "name": "stdout",
     "output_type": "stream",
     "text": [
      "CPU count : 8\n"
     ]
    }
   ],
   "source": [
    "import pandas as pd\n",
    "import numpy as np\n",
    "import seaborn as sns\n",
    "import os\n",
    "import pickle\n",
    "import matplotlib.pyplot as plt\n",
    "import statsmodels.api as sm\n",
    "from Library.preprocess import *\n",
    "from sklearn.linear_model import LinearRegression\n",
    "from sklearn.ensemble import RandomForestRegressor\n",
    "from sklearn.metrics import mean_squared_error, r2_score\n",
    "from sklearn.preprocessing import PolynomialFeatures, StandardScaler, MinMaxScaler, RobustScaler\n",
    "from sklearn.pipeline import Pipeline\n",
    "from sklearn.model_selection import train_test_split, GridSearchCV\n",
    "from sklearn.experimental import enable_halving_search_cv\n",
    "from sklearn.model_selection import HalvingGridSearchCV\n",
    "from matplotlib import font_manager, rc\n",
    "import warnings\n",
    "warnings.filterwarnings(action='ignore') \n",
    "import missingno as msno\n",
    "\n",
    "\n",
    "plt.rcParams['axes.unicode_minus'] = False\n",
    "rc('font', family='AppleGothic')\n",
    "pd.set_option('display.max_columns', None)\n",
    "print(f\"CPU count : {os.cpu_count()}\")"
   ]
  },
  {
   "cell_type": "markdown",
   "id": "22a705db",
   "metadata": {},
   "source": [
    "### 수비수 데이터셋 로드"
   ]
  },
  {
   "cell_type": "code",
   "execution_count": 3,
   "id": "7265f0f4",
   "metadata": {},
   "outputs": [],
   "source": [
    "with open('datas/defender.pkl', 'rb') as f:\n",
    "    defender_df = pickle.load(f)"
   ]
  },
  {
   "cell_type": "code",
   "execution_count": 4,
   "id": "01360947",
   "metadata": {},
   "outputs": [
    {
     "data": {
      "text/html": [
       "<div>\n",
       "<style scoped>\n",
       "    .dataframe tbody tr th:only-of-type {\n",
       "        vertical-align: middle;\n",
       "    }\n",
       "\n",
       "    .dataframe tbody tr th {\n",
       "        vertical-align: top;\n",
       "    }\n",
       "\n",
       "    .dataframe thead th {\n",
       "        text-align: right;\n",
       "    }\n",
       "</style>\n",
       "<table border=\"1\" class=\"dataframe\">\n",
       "  <thead>\n",
       "    <tr style=\"text-align: right;\">\n",
       "      <th></th>\n",
       "      <th>market_value</th>\n",
       "      <th>app</th>\n",
       "      <th>conceded_goals</th>\n",
       "      <th>clean_sheets</th>\n",
       "      <th>yellow_card</th>\n",
       "      <th>second_yell</th>\n",
       "      <th>red_card</th>\n",
       "      <th>age</th>\n",
       "      <th>height</th>\n",
       "      <th>position</th>\n",
       "      <th>foot</th>\n",
       "      <th>club</th>\n",
       "      <th>outfitter</th>\n",
       "      <th>cup</th>\n",
       "      <th>Tackles</th>\n",
       "      <th>Inter</th>\n",
       "      <th>Fouls</th>\n",
       "      <th>Offsides</th>\n",
       "      <th>Clear</th>\n",
       "      <th>Drbed</th>\n",
       "      <th>Blocks</th>\n",
       "      <th>OwnG</th>\n",
       "      <th>Rating</th>\n",
       "      <th>Goals</th>\n",
       "      <th>Assists</th>\n",
       "      <th>SpG</th>\n",
       "      <th>Fouled</th>\n",
       "      <th>Off</th>\n",
       "      <th>Disp</th>\n",
       "      <th>UnsTch</th>\n",
       "      <th>Drb</th>\n",
       "      <th>KeyP</th>\n",
       "      <th>AvgP</th>\n",
       "      <th>PS</th>\n",
       "      <th>Crosses</th>\n",
       "      <th>LongB</th>\n",
       "      <th>ThrB</th>\n",
       "      <th>AerialsWon</th>\n",
       "      <th>MotM</th>\n",
       "      <th>period</th>\n",
       "      <th>total_out</th>\n",
       "    </tr>\n",
       "  </thead>\n",
       "  <tbody>\n",
       "    <tr>\n",
       "      <th>737</th>\n",
       "      <td>450000</td>\n",
       "      <td>15</td>\n",
       "      <td>0.000000</td>\n",
       "      <td>0.066667</td>\n",
       "      <td>0.133333</td>\n",
       "      <td>0.000000</td>\n",
       "      <td>0.000000</td>\n",
       "      <td>22</td>\n",
       "      <td>177</td>\n",
       "      <td>Centre-Back</td>\n",
       "      <td>right</td>\n",
       "      <td>0</td>\n",
       "      <td>others</td>\n",
       "      <td>0</td>\n",
       "      <td>0.9</td>\n",
       "      <td>1.6</td>\n",
       "      <td>0.4</td>\n",
       "      <td>0.4</td>\n",
       "      <td>3.3</td>\n",
       "      <td>0.3</td>\n",
       "      <td>0.4</td>\n",
       "      <td>0.0</td>\n",
       "      <td>6.52</td>\n",
       "      <td>0.000000</td>\n",
       "      <td>0.000000</td>\n",
       "      <td>0.4</td>\n",
       "      <td>0.9</td>\n",
       "      <td>0.0</td>\n",
       "      <td>0.1</td>\n",
       "      <td>0.2</td>\n",
       "      <td>0.1</td>\n",
       "      <td>0.1</td>\n",
       "      <td>38.0</td>\n",
       "      <td>88.4</td>\n",
       "      <td>0.0</td>\n",
       "      <td>1.9</td>\n",
       "      <td>0.0</td>\n",
       "      <td>1.1</td>\n",
       "      <td>0.0</td>\n",
       "      <td>3.1</td>\n",
       "      <td>0.000000</td>\n",
       "    </tr>\n",
       "    <tr>\n",
       "      <th>738</th>\n",
       "      <td>2700000</td>\n",
       "      <td>26</td>\n",
       "      <td>0.076923</td>\n",
       "      <td>0.115385</td>\n",
       "      <td>0.153846</td>\n",
       "      <td>0.000000</td>\n",
       "      <td>0.000000</td>\n",
       "      <td>26</td>\n",
       "      <td>173</td>\n",
       "      <td>Left-Back</td>\n",
       "      <td>left</td>\n",
       "      <td>0</td>\n",
       "      <td>others</td>\n",
       "      <td>4</td>\n",
       "      <td>1.9</td>\n",
       "      <td>1.4</td>\n",
       "      <td>0.6</td>\n",
       "      <td>0.1</td>\n",
       "      <td>2.1</td>\n",
       "      <td>0.7</td>\n",
       "      <td>0.3</td>\n",
       "      <td>0.0</td>\n",
       "      <td>6.80</td>\n",
       "      <td>0.076923</td>\n",
       "      <td>0.115385</td>\n",
       "      <td>0.5</td>\n",
       "      <td>1.5</td>\n",
       "      <td>0.0</td>\n",
       "      <td>0.4</td>\n",
       "      <td>1.2</td>\n",
       "      <td>0.6</td>\n",
       "      <td>0.7</td>\n",
       "      <td>38.5</td>\n",
       "      <td>79.8</td>\n",
       "      <td>0.3</td>\n",
       "      <td>2.2</td>\n",
       "      <td>0.0</td>\n",
       "      <td>0.8</td>\n",
       "      <td>2.0</td>\n",
       "      <td>4.1</td>\n",
       "      <td>0.000000</td>\n",
       "    </tr>\n",
       "    <tr>\n",
       "      <th>739</th>\n",
       "      <td>1800000</td>\n",
       "      <td>21</td>\n",
       "      <td>0.000000</td>\n",
       "      <td>0.000000</td>\n",
       "      <td>0.095238</td>\n",
       "      <td>0.047619</td>\n",
       "      <td>0.047619</td>\n",
       "      <td>24</td>\n",
       "      <td>179</td>\n",
       "      <td>Left-Back</td>\n",
       "      <td>left</td>\n",
       "      <td>0</td>\n",
       "      <td>others</td>\n",
       "      <td>0</td>\n",
       "      <td>0.7</td>\n",
       "      <td>2.1</td>\n",
       "      <td>0.8</td>\n",
       "      <td>0.2</td>\n",
       "      <td>3.0</td>\n",
       "      <td>0.4</td>\n",
       "      <td>0.6</td>\n",
       "      <td>0.0</td>\n",
       "      <td>6.39</td>\n",
       "      <td>0.000000</td>\n",
       "      <td>0.000000</td>\n",
       "      <td>0.4</td>\n",
       "      <td>1.5</td>\n",
       "      <td>0.0</td>\n",
       "      <td>0.2</td>\n",
       "      <td>0.3</td>\n",
       "      <td>0.1</td>\n",
       "      <td>0.0</td>\n",
       "      <td>42.1</td>\n",
       "      <td>80.2</td>\n",
       "      <td>0.0</td>\n",
       "      <td>3.1</td>\n",
       "      <td>0.0</td>\n",
       "      <td>1.5</td>\n",
       "      <td>0.0</td>\n",
       "      <td>2.1</td>\n",
       "      <td>0.095238</td>\n",
       "    </tr>\n",
       "    <tr>\n",
       "      <th>740</th>\n",
       "      <td>2250000</td>\n",
       "      <td>23</td>\n",
       "      <td>0.000000</td>\n",
       "      <td>0.000000</td>\n",
       "      <td>0.000000</td>\n",
       "      <td>0.000000</td>\n",
       "      <td>0.000000</td>\n",
       "      <td>25</td>\n",
       "      <td>170</td>\n",
       "      <td>Right-Back</td>\n",
       "      <td>right</td>\n",
       "      <td>0</td>\n",
       "      <td>others</td>\n",
       "      <td>0</td>\n",
       "      <td>1.1</td>\n",
       "      <td>1.1</td>\n",
       "      <td>0.7</td>\n",
       "      <td>0.2</td>\n",
       "      <td>1.6</td>\n",
       "      <td>0.6</td>\n",
       "      <td>0.1</td>\n",
       "      <td>0.0</td>\n",
       "      <td>6.29</td>\n",
       "      <td>0.000000</td>\n",
       "      <td>0.000000</td>\n",
       "      <td>0.3</td>\n",
       "      <td>0.5</td>\n",
       "      <td>0.0</td>\n",
       "      <td>0.1</td>\n",
       "      <td>0.7</td>\n",
       "      <td>0.5</td>\n",
       "      <td>0.5</td>\n",
       "      <td>22.9</td>\n",
       "      <td>75.8</td>\n",
       "      <td>0.2</td>\n",
       "      <td>0.7</td>\n",
       "      <td>0.0</td>\n",
       "      <td>0.6</td>\n",
       "      <td>0.0</td>\n",
       "      <td>5.1</td>\n",
       "      <td>0.000000</td>\n",
       "    </tr>\n",
       "    <tr>\n",
       "      <th>741</th>\n",
       "      <td>1800000</td>\n",
       "      <td>22</td>\n",
       "      <td>0.000000</td>\n",
       "      <td>0.090909</td>\n",
       "      <td>0.181818</td>\n",
       "      <td>0.000000</td>\n",
       "      <td>0.000000</td>\n",
       "      <td>22</td>\n",
       "      <td>175</td>\n",
       "      <td>Right-Back</td>\n",
       "      <td>right</td>\n",
       "      <td>0</td>\n",
       "      <td>others</td>\n",
       "      <td>0</td>\n",
       "      <td>2.4</td>\n",
       "      <td>1.0</td>\n",
       "      <td>1.1</td>\n",
       "      <td>0.1</td>\n",
       "      <td>1.4</td>\n",
       "      <td>0.7</td>\n",
       "      <td>0.1</td>\n",
       "      <td>0.0</td>\n",
       "      <td>6.48</td>\n",
       "      <td>0.000000</td>\n",
       "      <td>0.090909</td>\n",
       "      <td>0.2</td>\n",
       "      <td>1.2</td>\n",
       "      <td>0.0</td>\n",
       "      <td>0.8</td>\n",
       "      <td>1.2</td>\n",
       "      <td>0.8</td>\n",
       "      <td>0.2</td>\n",
       "      <td>32.5</td>\n",
       "      <td>78.0</td>\n",
       "      <td>0.1</td>\n",
       "      <td>1.7</td>\n",
       "      <td>0.0</td>\n",
       "      <td>0.3</td>\n",
       "      <td>0.0</td>\n",
       "      <td>2.8</td>\n",
       "      <td>0.000000</td>\n",
       "    </tr>\n",
       "  </tbody>\n",
       "</table>\n",
       "</div>"
      ],
      "text/plain": [
       "     market_value  app  conceded_goals  clean_sheets  yellow_card  \\\n",
       "737        450000   15        0.000000      0.066667     0.133333   \n",
       "738       2700000   26        0.076923      0.115385     0.153846   \n",
       "739       1800000   21        0.000000      0.000000     0.095238   \n",
       "740       2250000   23        0.000000      0.000000     0.000000   \n",
       "741       1800000   22        0.000000      0.090909     0.181818   \n",
       "\n",
       "     second_yell  red_card  age  height     position   foot  club outfitter  \\\n",
       "737     0.000000  0.000000   22     177  Centre-Back  right     0    others   \n",
       "738     0.000000  0.000000   26     173    Left-Back   left     0    others   \n",
       "739     0.047619  0.047619   24     179    Left-Back   left     0    others   \n",
       "740     0.000000  0.000000   25     170   Right-Back  right     0    others   \n",
       "741     0.000000  0.000000   22     175   Right-Back  right     0    others   \n",
       "\n",
       "     cup  Tackles  Inter  Fouls  Offsides  Clear  Drbed  Blocks  OwnG  Rating  \\\n",
       "737    0      0.9    1.6    0.4       0.4    3.3    0.3     0.4   0.0    6.52   \n",
       "738    4      1.9    1.4    0.6       0.1    2.1    0.7     0.3   0.0    6.80   \n",
       "739    0      0.7    2.1    0.8       0.2    3.0    0.4     0.6   0.0    6.39   \n",
       "740    0      1.1    1.1    0.7       0.2    1.6    0.6     0.1   0.0    6.29   \n",
       "741    0      2.4    1.0    1.1       0.1    1.4    0.7     0.1   0.0    6.48   \n",
       "\n",
       "        Goals   Assists  SpG  Fouled  Off  Disp  UnsTch  Drb  KeyP  AvgP  \\\n",
       "737  0.000000  0.000000  0.4     0.9  0.0   0.1     0.2  0.1   0.1  38.0   \n",
       "738  0.076923  0.115385  0.5     1.5  0.0   0.4     1.2  0.6   0.7  38.5   \n",
       "739  0.000000  0.000000  0.4     1.5  0.0   0.2     0.3  0.1   0.0  42.1   \n",
       "740  0.000000  0.000000  0.3     0.5  0.0   0.1     0.7  0.5   0.5  22.9   \n",
       "741  0.000000  0.090909  0.2     1.2  0.0   0.8     1.2  0.8   0.2  32.5   \n",
       "\n",
       "       PS  Crosses  LongB  ThrB  AerialsWon  MotM  period  total_out  \n",
       "737  88.4      0.0    1.9   0.0         1.1   0.0     3.1   0.000000  \n",
       "738  79.8      0.3    2.2   0.0         0.8   2.0     4.1   0.000000  \n",
       "739  80.2      0.0    3.1   0.0         1.5   0.0     2.1   0.095238  \n",
       "740  75.8      0.2    0.7   0.0         0.6   0.0     5.1   0.000000  \n",
       "741  78.0      0.1    1.7   0.0         0.3   0.0     2.8   0.000000  "
      ]
     },
     "execution_count": 4,
     "metadata": {},
     "output_type": "execute_result"
    }
   ],
   "source": [
    "defender_df = preprocess_df(defender_df)\n",
    "defender_df.tail()"
   ]
  },
  {
   "cell_type": "markdown",
   "id": "387c7725",
   "metadata": {},
   "source": [
    "#### categorical variances 더미변수화"
   ]
  },
  {
   "cell_type": "code",
   "execution_count": 38,
   "id": "e7f26a42",
   "metadata": {},
   "outputs": [],
   "source": [
    "model_df = pd.get_dummies(defender_df, columns=['position', 'foot', 'outfitter'])"
   ]
  },
  {
   "cell_type": "markdown",
   "id": "5adc0f1c",
   "metadata": {},
   "source": [
    "### 초기 모델\n",
    "- 범주형 : 더미변수화\n",
    "- 수치형 : 전처리만 진행\n",
    "- 종속변수 : original"
   ]
  },
  {
   "cell_type": "code",
   "execution_count": 39,
   "id": "fd375ff2",
   "metadata": {},
   "outputs": [
    {
     "name": "stdout",
     "output_type": "stream",
     "text": [
      "(519, 46) (519,) (223, 46) (223,)\n"
     ]
    }
   ],
   "source": [
    "dfX0 = model_df.loc[:, 'app':]\n",
    "dfy = model_df['market_value']\n",
    "\n",
    "train_X, test_X, train_y, test_y = train_test_split(dfX0, dfy, test_size=0.3, random_state=3)\n",
    "print(train_X.shape, train_y.shape, test_X.shape, test_y.shape)"
   ]
  },
  {
   "cell_type": "code",
   "execution_count": 40,
   "id": "0b17dff1",
   "metadata": {},
   "outputs": [
    {
     "name": "stdout",
     "output_type": "stream",
     "text": [
      "MSE :  63877744500167.5\n",
      "RMSE :  7992355.378745836\n",
      "r2-score :  0.38993763594794306\n"
     ]
    },
    {
     "data": {
      "image/png": "[encoded data removed]",
      "text/plain": [
       "<Figure size 432x288 with 1 Axes>"
      ]
     },
     "metadata": {
      "needs_background": "light"
     },
     "output_type": "display_data"
    }
   ],
   "source": [
    "model_lm = LinearRegression(fit_intercept=True).fit(train_X, train_y)\n",
    "pred_lm = model_lm.predict(test_X)\n",
    "\n",
    "print(\"MSE : \", mean_squared_error(test_y, pred_lm))\n",
    "print(\"RMSE : \", np.sqrt(mean_squared_error(test_y, pred_lm)))\n",
    "print(\"r2-score : \",r2_score(test_y, pred_lm))\n",
    "f = np.polyfit(pred_lm, test_y, deg=1)\n",
    "\n",
    "sns.regplot(x=pred_lm, y=test_y)\n",
    "plt.title(f\"기울기 :{f[0].round(3)}\")\n",
    "plt.xlabel('Predict', fontsize=15)\n",
    "plt.ylabel(\"Actual\", fontsize=15)\n",
    "\n",
    "plt.show()"
   ]
  },
  {
   "cell_type": "markdown",
   "id": "6f358301",
   "metadata": {},
   "source": [
    "### Standard, MinMax, Robust 모델 비교\n",
    "- 범주형 : 더미변수화\n",
    "- 수치형 : 각 스케일러 적용\n",
    "- 종속변수 : original"
   ]
  },
  {
   "cell_type": "code",
   "execution_count": 41,
   "id": "a692bd3f",
   "metadata": {},
   "outputs": [],
   "source": [
    "ss = StandardScaler().fit(dfX0.loc[:, \"app\":\"total_out\"].values)\n",
    "mm = MinMaxScaler().fit(dfX0.loc[:, \"app\":\"total_out\"].values)\n",
    "rb = RobustScaler().fit(dfX0.loc[:, \"app\":\"total_out\"].values)\n",
    "\n",
    "ss_values = ss.transform(dfX0.loc[:, \"app\":\"total_out\"].values)\n",
    "mm_values = mm.transform(dfX0.loc[:, \"app\":\"total_out\"].values)\n",
    "rb_values = rb.transform(dfX0.loc[:, \"app\":\"total_out\"].values)\n",
    "\n",
    "ss_dfX0 = np.hstack([ss_values , dfX0.loc[:, \"position_Centre-Back\":].values])\n",
    "mm_dfX0 = np.hstack([mm_values , dfX0.loc[:, \"position_Centre-Back\":].values])\n",
    "rb_dfX0 = np.hstack([rb_values , dfX0.loc[:, \"position_Centre-Back\":].values])"
   ]
  },
  {
   "cell_type": "code",
   "execution_count": 42,
   "id": "837eb725",
   "metadata": {},
   "outputs": [
    {
     "name": "stdout",
     "output_type": "stream",
     "text": [
      "S-scaled MSE :  63879559526790.02\n",
      "S-scaled RMSE :  7992468.925606782\n",
      "S-scaled r2-score :  0.3899203015940015\n"
     ]
    }
   ],
   "source": [
    "train_X, test_X, train_y, test_y = train_test_split(ss_dfX0, dfy, test_size=0.3, random_state=3)\n",
    "\n",
    "ss_model = LinearRegression(fit_intercept=True).fit(train_X, train_y)\n",
    "pred_ss = ss_model.predict(test_X)\n",
    "\n",
    "print(\"S-scaled MSE : \", mean_squared_error(test_y, pred_ss))\n",
    "print(\"S-scaled RMSE : \",np.sqrt(mean_squared_error(test_y, pred_ss)))\n",
    "print(\"S-scaled r2-score : \",r2_score(test_y, pred_ss))"
   ]
  },
  {
   "cell_type": "code",
   "execution_count": 43,
   "id": "cfd8eff4",
   "metadata": {},
   "outputs": [
    {
     "name": "stdout",
     "output_type": "stream",
     "text": [
      "M-scaled MSE :  63809220081870.35\n",
      "M-scaled RMSE :  7988067.3558671465\n",
      "M-scaled r2-score :  0.3905920762220755\n"
     ]
    }
   ],
   "source": [
    "train_X, test_X, train_y, test_y = train_test_split(mm_dfX0, dfy, test_size=0.3, random_state=3)\n",
    "\n",
    "mm_model = LinearRegression(fit_intercept=True).fit(train_X, train_y)\n",
    "pred_mm = mm_model.predict(test_X)\n",
    "\n",
    "print(\"M-scaled MSE : \",mean_squared_error(test_y, pred_mm))\n",
    "print(\"M-scaled RMSE : \",np.sqrt(mean_squared_error(test_y, pred_mm)))\n",
    "print(\"M-scaled r2-score : \",r2_score(test_y, pred_mm))"
   ]
  },
  {
   "cell_type": "code",
   "execution_count": 44,
   "id": "6ec6cb02",
   "metadata": {},
   "outputs": [
    {
     "name": "stdout",
     "output_type": "stream",
     "text": [
      "R-scaled MSE :  63877744500167.586\n",
      "R-scaled RMSE :  7992355.378745842\n",
      "R-scaled r2-score :  0.3899376359479422\n"
     ]
    }
   ],
   "source": [
    "train_X, test_X, train_y, test_y = train_test_split(rb_dfX0, dfy, test_size=0.3, random_state=3)\n",
    "\n",
    "rb_model = LinearRegression(fit_intercept=True).fit(train_X, train_y)\n",
    "pred_rb = rb_model.predict(test_X)\n",
    "\n",
    "print(\"R-scaled MSE : \",mean_squared_error(test_y, pred_rb))\n",
    "print(\"R-scaled RMSE : \",np.sqrt(mean_squared_error(test_y, pred_rb)))\n",
    "print(\"R-scaled r2-score : \",r2_score(test_y, pred_rb))"
   ]
  },
  {
   "cell_type": "code",
   "execution_count": 45,
   "id": "9b0eddad",
   "metadata": {},
   "outputs": [],
   "source": [
    "f1 = np.polyfit(pred_ss, test_y, deg=1)\n",
    "f2 = np.polyfit(pred_mm, test_y, deg=1)\n",
    "f3 = np.polyfit(pred_rb, test_y, deg=1)"
   ]
  },
  {
   "cell_type": "code",
   "execution_count": 46,
   "id": "bb38b82b",
   "metadata": {},
   "outputs": [
    {
     "name": "stdout",
     "output_type": "stream",
     "text": [
      "S-scaled r2-score :  0.3899203015940015\n",
      "M-scaled r2-score :  0.3905920762220755\n",
      "R-scaled r2-score :  0.3899376359479422\n"
     ]
    },
    {
     "data": {
      "image/png": "[encoded data removed]",
      "text/plain": [
       "<Figure size 1440x432 with 3 Axes>"
      ]
     },
     "metadata": {
      "needs_background": "light"
     },
     "output_type": "display_data"
    }
   ],
   "source": [
    "print(\"S-scaled r2-score : \",r2_score(test_y, pred_ss))\n",
    "print(\"M-scaled r2-score : \",r2_score(test_y, pred_mm))\n",
    "print(\"R-scaled r2-score : \",r2_score(test_y, pred_rb))\n",
    "\n",
    "plt.figure(figsize=(20, 6))\n",
    "\n",
    "plt.subplot(131)\n",
    "sns.regplot(x=pred_ss, y=test_y)\n",
    "plt.title(f\"기울기 :{f1[0].round(3)}\")\n",
    "plt.xlabel('Predict', fontsize=15)\n",
    "plt.ylabel(\"Actual\", fontsize=15)\n",
    "\n",
    "plt.subplot(132)\n",
    "sns.regplot(x=pred_mm, y=test_y)\n",
    "plt.title(f\"기울기 :{f2[0].round(3)}\")\n",
    "plt.xlabel('Predict', fontsize=15)\n",
    "plt.ylabel(\"Actual\", fontsize=15)\n",
    "\n",
    "plt.subplot(133)\n",
    "sns.regplot(x=pred_rb, y=test_y)\n",
    "plt.title(f\"기울기 :{f3[0].round(3)}\")\n",
    "plt.xlabel('Predict', fontsize=15)\n",
    "plt.ylabel(\"Actual\", fontsize=15)\n",
    "\n",
    "plt.tight_layout()\n",
    "plt.show()"
   ]
  },
  {
   "cell_type": "markdown",
   "id": "8e4bb2a4",
   "metadata": {},
   "source": [
    "### 종속변수에 log scaling을 진행한 모델\n",
    "- 범주형 : 더미변수화\n",
    "- 수치형 : Standard Scaler\n",
    "- 종속변수 : log1p Scaler"
   ]
  },
  {
   "cell_type": "code",
   "execution_count": 47,
   "id": "66785fc5",
   "metadata": {},
   "outputs": [],
   "source": [
    "log_dfy = np.log1p(model_df['market_value'])\n",
    "\n",
    "train_X, test_X, train_y, test_y = train_test_split(ss_dfX0, log_dfy, test_size=0.3, random_state=3)"
   ]
  },
  {
   "cell_type": "code",
   "execution_count": 48,
   "id": "8b9014bd",
   "metadata": {},
   "outputs": [
    {
     "name": "stdout",
     "output_type": "stream",
     "text": [
      "log_scaled MSE :  0.5857652916474115\n",
      "log_scaled RMSE :  0.7653530503286777\n",
      "Inverse log한 RMSE :  7394704.284064515\n",
      "log_scaled r2-score :  0.5514005769482347\n"
     ]
    },
    {
     "data": {
      "image/png": "[encoded data removed]",
      "text/plain": [
       "<Figure size 432x288 with 1 Axes>"
      ]
     },
     "metadata": {
      "needs_background": "light"
     },
     "output_type": "display_data"
    }
   ],
   "source": [
    "model_log = LinearRegression(fit_intercept=True).fit(train_X, train_y)\n",
    "pred_log = model_log.predict(test_X)\n",
    "f = np.polyfit(pred_log, test_y, deg=1)\n",
    "\n",
    "print(\"log_scaled MSE : \", mean_squared_error(test_y, pred_log))\n",
    "print(\"log_scaled RMSE : \",np.sqrt(mean_squared_error(test_y, pred_log)))\n",
    "print(\"Inverse log한 RMSE : \", np.sqrt(np.sum((((np.exp(test_y) -1) - (np.exp(pred_log) -1))**2)) / len(test_y)))\n",
    "print(\"log_scaled r2-score : \",r2_score(test_y, pred_log))\n",
    "\n",
    "sns.regplot(x=pred_log, y=test_y)\n",
    "plt.title(f\"기울기 :{f[0].round(3)}\")\n",
    "plt.xlabel('Predict', fontsize=15)\n",
    "plt.ylabel(\"Actual\", fontsize=15)\n",
    "\n",
    "plt.show()"
   ]
  },
  {
   "cell_type": "markdown",
   "id": "0d598c80",
   "metadata": {},
   "source": [
    "### RandomForest Regessor Model 적용\n",
    "- 범주형 : 더미변수화\n",
    "- 수치형 : Standard Scaler\n",
    "- 종속변수 : original and log1p Scaler"
   ]
  },
  {
   "cell_type": "code",
   "execution_count": 49,
   "id": "2b929016",
   "metadata": {},
   "outputs": [
    {
     "name": "stdout",
     "output_type": "stream",
     "text": [
      "RF MSE :  54053407398618.836\n",
      "RF RMSE :  7352102.243482393\n",
      "RF r2-score :  0.48376465448644823\n"
     ]
    }
   ],
   "source": [
    "train_X, test_X, train_y, test_y = train_test_split(ss_dfX0, dfy, test_size=0.3, random_state=3)\n",
    "\n",
    "rf_model = RandomForestRegressor().fit(train_X, train_y)\n",
    "pred_rf = rf_model.predict(test_X)\n",
    "\n",
    "print(\"RF MSE : \", mean_squared_error(test_y, pred_rf))\n",
    "print(\"RF RMSE : \",np.sqrt(mean_squared_error(test_y, pred_rf)))\n",
    "print(\"RF r2-score : \",r2_score(test_y, pred_rf))"
   ]
  },
  {
   "cell_type": "code",
   "execution_count": 50,
   "id": "66258a91",
   "metadata": {},
   "outputs": [
    {
     "name": "stdout",
     "output_type": "stream",
     "text": [
      "log_RF MSE :  0.5210997897557453\n",
      "log_RF RMSE :  0.7218724193067257\n",
      "log_RF r2-score :  0.6009236662360438\n"
     ]
    }
   ],
   "source": [
    "train_X, test_X, train_y, test_y = train_test_split(ss_dfX0, log_dfy, test_size=0.3, random_state=3)\n",
    "\n",
    "rf_log_model = RandomForestRegressor().fit(train_X, train_y)\n",
    "pred_rf_log = rf_log_model.predict(test_X)\n",
    "\n",
    "print(\"log_RF MSE : \", mean_squared_error(test_y, pred_rf_log))\n",
    "print(\"log_RF RMSE : \",np.sqrt(mean_squared_error(test_y, pred_rf_log)))\n",
    "print(\"log_RF r2-score : \",r2_score(test_y, pred_rf_log))"
   ]
  },
  {
   "cell_type": "markdown",
   "id": "33fd7946",
   "metadata": {},
   "source": [
    "### GridSearchCV를 통한 best hyper parameter 추출\n",
    "- model : RandomForest Regessor\n",
    "- 범주형 : 더미변수화\n",
    "- 수치형 : Standard Scaler\n",
    "- 종속변수 : log1p Scaler"
   ]
  },
  {
   "cell_type": "code",
   "execution_count": null,
   "id": "2381f355",
   "metadata": {
    "scrolled": true
   },
   "outputs": [],
   "source": [
    "random_params = {'bootstrap': [True, False],\n",
    " 'max_depth': [1,3,5,7,9],\n",
    " 'max_features': ['auto', 'sqrt'],\n",
    " 'min_samples_leaf': [1, 2, 4],\n",
    " 'min_samples_split': [2, 5, 10],\n",
    " 'n_estimators': [200, 400, 600, 800]}\n",
    "\n",
    "result = GridSearchCV(\n",
    "    RandomForestRegressor(),\n",
    "    param_grid=random_params,\n",
    "    scoring='neg_mean_squared_error',\n",
    "    cv=5,\n",
    "    verbose=3)\n",
    "\n",
    "result.fit(train_X, train_y)"
   ]
  },
  {
   "cell_type": "code",
   "execution_count": 29,
   "id": "732067a7",
   "metadata": {},
   "outputs": [
    {
     "data": {
      "text/plain": [
       "{'bootstrap': True,\n",
       " 'max_depth': 9,\n",
       " 'max_features': 'auto',\n",
       " 'min_samples_leaf': 2,\n",
       " 'min_samples_split': 10,\n",
       " 'n_estimators': 800}"
      ]
     },
     "execution_count": 29,
     "metadata": {},
     "output_type": "execute_result"
    }
   ],
   "source": [
    "result.best_params_"
   ]
  },
  {
   "cell_type": "code",
   "execution_count": 51,
   "id": "c8b708a2",
   "metadata": {},
   "outputs": [],
   "source": [
    "params = {\n",
    "    'bootstrap': True,\n",
    "    'max_depth': 9,\n",
    "    'max_features': 'auto',\n",
    "    'min_samples_leaf': 2,\n",
    "    'min_samples_split': 10,\n",
    "    'n_estimators': 800\n",
    "}"
   ]
  },
  {
   "cell_type": "code",
   "execution_count": 52,
   "id": "be69ea3b",
   "metadata": {},
   "outputs": [
    {
     "name": "stdout",
     "output_type": "stream",
     "text": [
      "0.5095547208131751\n",
      "0.7138310169873365\n",
      "0.6097652813685555\n"
     ]
    }
   ],
   "source": [
    "grid_model = RandomForestRegressor(**params).fit(train_X, train_y)\n",
    "pred_grid = grid_model.predict(test_X)\n",
    "\n",
    "print(mean_squared_error(test_y, pred_grid))\n",
    "print(np.sqrt(mean_squared_error(test_y, pred_grid)))\n",
    "print(r2_score(test_y, pred_grid))"
   ]
  },
  {
   "cell_type": "markdown",
   "id": "d106922c",
   "metadata": {},
   "source": [
    "### Pipeline을 이용한 Model 생성\n",
    "- ploynomialFeatures을 이용한 다향회귀 진행 : 삼차항\n",
    "- pipeline : `PolynomialFeatures > StandardScaler > RandomForestRegressor`\n",
    "- 범주형 : 더미변수화\n",
    "- 수치형 : Standard Scaler\n",
    "- 종속변수 : log1p Scaler"
   ]
  },
  {
   "cell_type": "code",
   "execution_count": 32,
   "id": "9e5d15ae",
   "metadata": {},
   "outputs": [
    {
     "name": "stdout",
     "output_type": "stream",
     "text": [
      "n_iterations: 3\n",
      "n_required_iterations: 3\n",
      "n_possible_iterations: 3\n",
      "min_resources_: 57\n",
      "max_resources_: 519\n",
      "aggressive_elimination: False\n",
      "factor: 3\n",
      "----------\n",
      "iter: 0\n",
      "n_candidates: 18\n",
      "n_resources: 57\n",
      "Fitting 3 folds for each of 18 candidates, totalling 54 fits\n"
     ]
    },
    {
     "name": "stderr",
     "output_type": "stream",
     "text": [
      "/Users/riversong/miniforge3/envs/ml/lib/python3.8/site-packages/sklearn/model_selection/_search.py:918: UserWarning: One or more of the test scores are non-finite: [nan nan nan nan nan nan nan nan nan nan nan nan nan nan nan nan nan nan]\n",
      "  warnings.warn(\n",
      "/Users/riversong/miniforge3/envs/ml/lib/python3.8/site-packages/sklearn/model_selection/_search.py:918: UserWarning: One or more of the train scores are non-finite: [nan nan nan nan nan nan nan nan nan nan nan nan nan nan nan nan nan nan]\n",
      "  warnings.warn(\n"
     ]
    },
    {
     "name": "stdout",
     "output_type": "stream",
     "text": [
      "----------\n",
      "iter: 1\n",
      "n_candidates: 6\n",
      "n_resources: 171\n",
      "Fitting 3 folds for each of 6 candidates, totalling 18 fits\n"
     ]
    },
    {
     "name": "stderr",
     "output_type": "stream",
     "text": [
      "/Users/riversong/miniforge3/envs/ml/lib/python3.8/site-packages/sklearn/model_selection/_search.py:918: UserWarning: One or more of the test scores are non-finite: [nan nan nan nan nan nan nan nan nan nan nan nan nan nan nan nan nan nan\n",
      " nan nan nan nan nan nan]\n",
      "  warnings.warn(\n",
      "/Users/riversong/miniforge3/envs/ml/lib/python3.8/site-packages/sklearn/model_selection/_search.py:918: UserWarning: One or more of the train scores are non-finite: [nan nan nan nan nan nan nan nan nan nan nan nan nan nan nan nan nan nan\n",
      " nan nan nan nan nan nan]\n",
      "  warnings.warn(\n"
     ]
    },
    {
     "name": "stdout",
     "output_type": "stream",
     "text": [
      "----------\n",
      "iter: 2\n",
      "n_candidates: 2\n",
      "n_resources: 513\n",
      "Fitting 3 folds for each of 2 candidates, totalling 6 fits\n"
     ]
    },
    {
     "name": "stderr",
     "output_type": "stream",
     "text": [
      "/Users/riversong/miniforge3/envs/ml/lib/python3.8/site-packages/sklearn/model_selection/_search.py:918: UserWarning: One or more of the test scores are non-finite: [nan nan nan nan nan nan nan nan nan nan nan nan nan nan nan nan nan nan\n",
      " nan nan nan nan nan nan nan nan]\n",
      "  warnings.warn(\n",
      "/Users/riversong/miniforge3/envs/ml/lib/python3.8/site-packages/sklearn/model_selection/_search.py:918: UserWarning: One or more of the train scores are non-finite: [nan nan nan nan nan nan nan nan nan nan nan nan nan nan nan nan nan nan\n",
      " nan nan nan nan nan nan nan nan]\n",
      "  warnings.warn(\n"
     ]
    },
    {
     "data": {
      "text/plain": [
       "HalvingGridSearchCV(cv=3,\n",
       "                    estimator=Pipeline(steps=[('ploy',\n",
       "                                               PolynomialFeatures(degree=3)),\n",
       "                                              ('scaler', StandardScaler()),\n",
       "                                              ('rf', RandomForestRegressor())]),\n",
       "                    n_jobs=6,\n",
       "                    param_grid={'rf__min_samples_leaf': [2, 4, 8],\n",
       "                                'rf__min_samples_split': [2, 4, 8],\n",
       "                                'rf__n_estimators': [200, 1000]},\n",
       "                    refit=<function _refit_callable at 0x16367cdc0>,\n",
       "                    scoring='roc_auc', verbose=2)"
      ]
     },
     "execution_count": 32,
     "metadata": {},
     "output_type": "execute_result"
    }
   ],
   "source": [
    "pipe = Pipeline([\n",
    "    ('ploy', PolynomialFeatures(degree=3)),\n",
    "    ('scaler', StandardScaler()),\n",
    "    ('rf', RandomForestRegressor())\n",
    "])\n",
    "\n",
    "pipe_params = {\n",
    "#     'ploy__degree': [3],\n",
    "#     'rf__bootstrap': [True],\n",
    "#     'rf__max_features': ['auto', 'sqrt'],\n",
    "    'rf__min_samples_leaf': [2, 4, 8],\n",
    "    'rf__min_samples_split': [2, 4, 8],\n",
    "    'rf__n_estimators': [200, 1000]\n",
    "}\n",
    "\n",
    "pipe_grid = HalvingGridSearchCV(pipe, param_grid=pipe_params, verbose=2, n_jobs=os.cpu_count()-2,\n",
    "                                scoring=\"roc_auc\", min_resources=\"exhaust\", cv=3)\n",
    "pipe_grid.fit(train_X, train_y)"
   ]
  },
  {
   "cell_type": "code",
   "execution_count": 33,
   "id": "76429984",
   "metadata": {},
   "outputs": [
    {
     "data": {
      "text/plain": [
       "{'rf__min_samples_leaf': 8,\n",
       " 'rf__min_samples_split': 8,\n",
       " 'rf__n_estimators': 200}"
      ]
     },
     "execution_count": 33,
     "metadata": {},
     "output_type": "execute_result"
    }
   ],
   "source": [
    "ploy3_params = pipe_grid.best_params_\n",
    "ploy3_params"
   ]
  },
  {
   "cell_type": "code",
   "execution_count": 53,
   "id": "ef55a112",
   "metadata": {},
   "outputs": [
    {
     "name": "stdout",
     "output_type": "stream",
     "text": [
      "1.3058549407766586\n",
      "1.1427401020252412\n",
      "-6.910852328045891e-05\n"
     ]
    }
   ],
   "source": [
    "pipe_2 = Pipeline([\n",
    "    ('ploy', PolynomialFeatures(degree=3)),\n",
    "    ('scaler', StandardScaler()),\n",
    "    ('rf', RandomForestRegressor(min_samples_leaf=8,\n",
    "                                min_impurity_split=8,\n",
    "                                n_estimators=200))\n",
    "])\n",
    "\n",
    "result_2 = pipe_2.fit(train_X, train_y)\n",
    "pred_2 = result_2.predict(test_X)\n",
    "\n",
    "print(mean_squared_error(test_y, pred_2))\n",
    "print(np.sqrt(mean_squared_error(test_y, pred_2)))\n",
    "print(r2_score(test_y, pred_2))"
   ]
  },
  {
   "cell_type": "markdown",
   "id": "befd7d56",
   "metadata": {},
   "source": [
    "### 최종 모델 선정 및 OLS객체를 통한 통계분석\n",
    "- model : LinearRegression\n",
    "- 범주형 : 더미변수화\n",
    "- 수치형 : Standard Scaler\n",
    "- 종속변수 : log1p Scaler"
   ]
  },
  {
   "cell_type": "code",
   "execution_count": 54,
   "id": "336a78c4",
   "metadata": {},
   "outputs": [],
   "source": [
    "train_X, test_X, train_y, test_y1 = train_test_split(dfX0, dfy, test_size=0.3, random_state=3)\n",
    "train_X, test_X, train_y, test_y2 = train_test_split(ss_dfX0, log_dfy, test_size=0.3, random_state=3)"
   ]
  },
  {
   "cell_type": "code",
   "execution_count": 55,
   "id": "2f4ffca5",
   "metadata": {},
   "outputs": [
    {
     "data": {
      "image/png": "[encoded data removed]",
      "text/plain": [
       "<Figure size 1440x432 with 2 Axes>"
      ]
     },
     "metadata": {
      "needs_background": "light"
     },
     "output_type": "display_data"
    }
   ],
   "source": [
    "f1 = np.polyfit(pred_lm, test_y1, deg=1)\n",
    "f2 = np.polyfit(pred_log, test_y2, deg=1)\n",
    "\n",
    "plt.figure(figsize=(20, 6))\n",
    "\n",
    "plt.subplot(121)\n",
    "sns.regplot(x=pred_lm, y=test_y1)\n",
    "plt.title(f\"초기모델 / 기울기 :{f1[0].round(3)}, r2 :{np.round(r2_score(test_y1, pred_lm), 4)}\", fontsize=20)\n",
    "plt.xlabel('Predict', fontsize=15)\n",
    "plt.ylabel(\"Actual\", fontsize=15)\n",
    "\n",
    "plt.subplot(122)\n",
    "sns.regplot(x=pred_log, y=test_y2)\n",
    "plt.title(f\"최종모델 / 기울기 :{f2[0].round(3)}, r2 :{np.round(r2_score(test_y2, pred_log), 4)}\", fontsize=20)\n",
    "plt.xlabel('Predict', fontsize=15)\n",
    "plt.ylabel(\"Actual\", fontsize=15)\n",
    "\n",
    "plt.show()"
   ]
  },
  {
   "cell_type": "code",
   "execution_count": 56,
   "id": "11f0c445",
   "metadata": {},
   "outputs": [
    {
     "name": "stdout",
     "output_type": "stream",
     "text": [
      "                            OLS Regression Results                            \n",
      "==============================================================================\n",
      "Dep. Variable:           market_value   R-squared:                       0.656\n",
      "Model:                            OLS   Adj. R-squared:                  0.635\n",
      "Method:                 Least Squares   F-statistic:                     31.71\n",
      "Date:                Tue, 15 Jun 2021   Prob (F-statistic):          1.57e-133\n",
      "Time:                        18:02:53   Log-Likelihood:                -795.74\n",
      "No. Observations:                 742   AIC:                             1677.\n",
      "Df Residuals:                     699   BIC:                             1876.\n",
      "Df Model:                          42                                         \n",
      "Covariance Type:            nonrobust                                         \n",
      "========================================================================================\n",
      "                           coef    std err          t      P>|t|      [0.025      0.975]\n",
      "----------------------------------------------------------------------------------------\n",
      "const                   15.2644      0.027    570.700      0.000      15.212      15.317\n",
      "app                      0.2636      0.036      7.300      0.000       0.193       0.334\n",
      "clean_sheets            -0.0385      0.069     -0.561      0.575      -0.173       0.096\n",
      "yellow_card             -0.0175      0.033     -0.539      0.590      -0.081       0.046\n",
      "second_yell             -0.0363      0.024     -1.516      0.130      -0.083       0.011\n",
      "red_card                 0.0237      0.019      1.223      0.222      -0.014       0.062\n",
      "age                     -0.4301      0.032    -13.555      0.000      -0.492      -0.368\n",
      "height                   0.0215      0.041      0.527      0.598      -0.059       0.102\n",
      "club                     0.2978      0.041      7.205      0.000       0.217       0.379\n",
      "cup                      0.1594      0.033      4.891      0.000       0.095       0.223\n",
      "Tackles                 -0.1089      0.043     -2.519      0.012      -0.194      -0.024\n",
      "Inter                   -0.1239      0.040     -3.092      0.002      -0.203      -0.045\n",
      "Fouls                    0.0354      0.037      0.959      0.338      -0.037       0.108\n",
      "Offsides                 0.1014      0.035      2.896      0.004       0.033       0.170\n",
      "Clear                    0.0225      0.051      0.438      0.662      -0.078       0.124\n",
      "Drbed                    0.0533      0.035      1.524      0.128      -0.015       0.122\n",
      "Blocks                   0.0964      0.042      2.285      0.023       0.014       0.179\n",
      "OwnG                     0.0159      0.028      0.571      0.568      -0.039       0.070\n",
      "Rating                   0.2664      0.077      3.469      0.001       0.116       0.417\n",
      "Goals                   -0.0093      0.035     -0.265      0.791      -0.078       0.059\n",
      "Assists                  0.0202      0.070      0.290      0.772      -0.116       0.157\n",
      "SpG                      0.0366      0.036      1.002      0.317      -0.035       0.108\n",
      "Fouled                  -0.0301      0.034     -0.881      0.379      -0.097       0.037\n",
      "Off                      0.0549      0.030      1.844      0.066      -0.004       0.113\n",
      "Disp                    -0.0521      0.044     -1.186      0.236      -0.138       0.034\n",
      "UnsTch                   0.0954      0.045      2.123      0.034       0.007       0.184\n",
      "Drb                      0.0410      0.047      0.873      0.383      -0.051       0.133\n",
      "KeyP                    -0.0569      0.065     -0.876      0.382      -0.184       0.071\n",
      "AvgP                     0.2356      0.057      4.168      0.000       0.125       0.347\n",
      "PS                       0.0562      0.036      1.547      0.122      -0.015       0.128\n",
      "Crosses                  0.0623      0.057      1.086      0.278      -0.050       0.175\n",
      "LongB                   -0.0734      0.045     -1.622      0.105      -0.162       0.015\n",
      "ThrB                     0.0518      0.028      1.827      0.068      -0.004       0.107\n",
      "AerialsWon              -0.0685      0.053     -1.285      0.199      -0.173       0.036\n",
      "MotM                     0.0092      0.034      0.270      0.787      -0.057       0.076\n",
      "period                   0.1413      0.030      4.711      0.000       0.082       0.200\n",
      "total_out               -0.0017      0.014     -0.124      0.901      -0.029       0.026\n",
      "position_Centre-Back     0.0077      0.033      0.235      0.814      -0.056       0.072\n",
      "position_Left-Back       0.0102      0.032      0.313      0.754      -0.054       0.074\n",
      "position_Right-Back     -0.0189      0.030     -0.637      0.525      -0.077       0.039\n",
      "foot_both               -0.0510      0.026     -1.947      0.052      -0.102       0.000\n",
      "foot_left                0.0019      0.022      0.085      0.932      -0.041       0.045\n",
      "foot_right               0.0157      0.021      0.752      0.452      -0.025       0.057\n",
      "outfitter_Nike           0.0690      0.017      4.115      0.000       0.036       0.102\n",
      "outfitter_Puma          -0.0101      0.023     -0.434      0.664      -0.055       0.035\n",
      "outfitter_adidas        -0.0496      0.019     -2.659      0.008      -0.086      -0.013\n",
      "outfitter_others        -0.0309      0.025     -1.221      0.222      -0.081       0.019\n",
      "==============================================================================\n",
      "Omnibus:                       20.469   Durbin-Watson:                   1.490\n",
      "Prob(Omnibus):                  0.000   Jarque-Bera (JB):               24.674\n",
      "Skew:                          -0.320   Prob(JB):                     4.39e-06\n",
      "Kurtosis:                       3.624   Cond. No.                     7.33e+15\n",
      "==============================================================================\n",
      "\n",
      "Warnings:\n",
      "[1] Standard Errors assume that the covariance matrix of the errors is correctly specified.\n",
      "[2] The smallest eigenvalue is 1.08e-28. This might indicate that there are\n",
      "strong multicollinearity problems or that the design matrix is singular.\n"
     ]
    }
   ],
   "source": [
    "X0 = pd.DataFrame(StandardScaler().fit_transform(dfX0), columns=dfX0.columns)\n",
    "X1 = sm.add_constant(X0)\n",
    "y = log_dfy\n",
    "\n",
    "final_model = sm.OLS(y, X1).fit()\n",
    "print(final_model.summary())"
   ]
  },
  {
   "cell_type": "code",
   "execution_count": 27,
   "id": "e6008602",
   "metadata": {},
   "outputs": [
    {
     "data": {
      "text/plain": [
       "app                 0.261176\n",
       "conceded_goals      0.308406\n",
       "age                -0.428666\n",
       "club                0.304761\n",
       "cup                 0.156563\n",
       "Tackles            -0.106728\n",
       "Inter              -0.121279\n",
       "Offsides            0.107466\n",
       "Blocks              0.099654\n",
       "Rating              0.256655\n",
       "Goals              -0.315267\n",
       "Off                 0.056377\n",
       "UnsTch              0.102745\n",
       "AvgP                0.231093\n",
       "ThrB                0.052689\n",
       "period              0.141782\n",
       "foot_both          -0.051450\n",
       "outfitter_Nike      0.068809\n",
       "outfitter_adidas   -0.049062\n",
       "dtype: float64"
      ]
     },
     "execution_count": 27,
     "metadata": {},
     "output_type": "execute_result"
    }
   ],
   "source": [
    "# p-value <= 0.1인 index 추출\n",
    "idx = final_model.pvalues[1:] <= 0.1\n",
    "\n",
    "final_model.params[1:][idx]"
   ]
  },
  {
   "cell_type": "code",
   "execution_count": 57,
   "id": "e2c1380f",
   "metadata": {
    "scrolled": false
   },
   "outputs": [
    {
     "data": {
      "image/png": "[encoded data removed]",
      "text/plain": [
       "<Figure size 1080x576 with 1 Axes>"
      ]
     },
     "metadata": {
      "needs_background": "light"
     },
     "output_type": "display_data"
    }
   ],
   "source": [
    "result_df = final_model.params[1:][idx].reset_index().rename(columns={\"index\": \"var\", 0: \"coef\"})\n",
    "result_df.sort_values('coef', ascending=False, inplace=True)\n",
    "\n",
    "plt.figure(figsize=(15, 8))\n",
    "\n",
    "sns.barplot(data=result_df, x='var', y='coef')\n",
    "plt.title(\"p-value 0.1이하의 독립변수들의 가중치\", fontsize=20)\n",
    "\n",
    "plt.show()"
   ]
  },
  {
   "cell_type": "code",
   "execution_count": null,
   "id": "fb47801a",
   "metadata": {},
   "outputs": [],
   "source": []
  }
 ],
 "metadata": {
  "kernelspec": {
   "display_name": "Python 3",
   "language": "python",
   "name": "python3"
  },
  "language_info": {
   "codemirror_mode": {
    "name": "ipython",
    "version": 3
   },
   "file_extension": ".py",
   "mimetype": "text/x-python",
   "name": "python",
   "nbconvert_exporter": "python",
   "pygments_lexer": "ipython3",
   "version": "3.8.6"
  }
 },
 "nbformat": 4,
 "nbformat_minor": 5
}
